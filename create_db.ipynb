{
 "cells": [
  {
   "cell_type": "code",
   "execution_count": 1,
   "metadata": {},
   "outputs": [],
   "source": [
    "import sqlite3 \n",
    "import requests\n",
    "import pandas as pd\n",
    "\n",
    "def store_dataset_in_database(url,filename, table_name):\n",
    "    response = requests.get(url)\n",
    "    if response.status_code == 200:\n",
    "        with open(filename, 'wb') as file:\n",
    "            file.write(response.content)\n",
    "        df = pd.read_excel(filename) \n",
    "        conn = sqlite3.connect('database.db')\n",
    "        df.to_sql(table_name, conn, if_exists='replace', index=False)\n",
    "        conn.close()\n",
    "        return True\n",
    "    else:\n",
    "        print(\"Failed to download dataset\")\n",
    "        return False"
   ]
  },
  {
   "cell_type": "code",
   "execution_count": 2,
   "metadata": {},
   "outputs": [
    {
     "data": {
      "text/plain": [
       "True"
      ]
     },
     "execution_count": 2,
     "metadata": {},
     "output_type": "execute_result"
    }
   ],
   "source": [
    "store_dataset_in_database('https://query.data.world/s/kcszo2lcmmwf2nsag57l5xxqv5twrs?dws=00000','twitter.csv','twitter_data')"
   ]
  }
 ],
 "metadata": {
  "kernelspec": {
   "display_name": ".venv",
   "language": "python",
   "name": "python3"
  },
  "language_info": {
   "codemirror_mode": {
    "name": "ipython",
    "version": 3
   },
   "file_extension": ".py",
   "mimetype": "text/x-python",
   "name": "python",
   "nbconvert_exporter": "python",
   "pygments_lexer": "ipython3",
   "version": "3.12.1"
  }
 },
 "nbformat": 4,
 "nbformat_minor": 2
}
